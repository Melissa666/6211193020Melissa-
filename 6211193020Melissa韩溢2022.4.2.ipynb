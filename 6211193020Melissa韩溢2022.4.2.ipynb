{
 "cells": [
  {
   "cell_type": "markdown",
   "id": "c4946228",
   "metadata": {},
   "source": [
    "Exercises ➞ Sets"
   ]
  },
  {
   "cell_type": "code",
   "execution_count": 31,
   "id": "6afbdabc",
   "metadata": {},
   "outputs": [],
   "source": [
    "mix_fruits = {'Guava', 'Pear', 'Mango', 'Apple', 'Fig', 'Orange', 'Banana'}\n",
    "A = {19, 22, 24, 20, 25, 26}\n",
    "B = {19, 22, 20, 25, 26, 24, 28, 27}\n",
    "num = [22, 19, 24, 25, 26, 24, 25, 24]"
   ]
  },
  {
   "cell_type": "markdown",
   "id": "ed8402f0",
   "metadata": {},
   "source": [
    "Exercises ➞ Level 1"
   ]
  },
  {
   "cell_type": "markdown",
   "id": "e7b45466",
   "metadata": {},
   "source": [
    "1.Find the length of the set mix_fruits"
   ]
  },
  {
   "cell_type": "code",
   "execution_count": 32,
   "id": "c561ad93",
   "metadata": {},
   "outputs": [
    {
     "name": "stdout",
     "output_type": "stream",
     "text": [
      "7\n"
     ]
    }
   ],
   "source": [
    "Len=len(mix_fruits)\n",
    "print(Len)"
   ]
  },
  {
   "cell_type": "markdown",
   "id": "789a72b6",
   "metadata": {},
   "source": [
    "2.Add 'Kiwi' to mix_fruits"
   ]
  },
  {
   "cell_type": "code",
   "execution_count": 33,
   "id": "4fb3ea50",
   "metadata": {},
   "outputs": [
    {
     "name": "stdout",
     "output_type": "stream",
     "text": [
      "{'Banana', 'Guava', 'Pear', 'Kiwi', 'Fig', 'Apple', 'Mango', 'Orange'}\n"
     ]
    }
   ],
   "source": [
    "mix_fruits.add(\"Kiwi\")\n",
    "print(mix_fruits)"
   ]
  },
  {
   "cell_type": "markdown",
   "id": "df71cc14",
   "metadata": {},
   "source": [
    "3.Insert multiple fruits at once to the set mix_fruits"
   ]
  },
  {
   "cell_type": "code",
   "execution_count": 34,
   "id": "b3374d65",
   "metadata": {},
   "outputs": [
    {
     "name": "stdout",
     "output_type": "stream",
     "text": [
      "{'Guava', 'Kiwi', 'Banana', 'Pear', 'Mango', 'Avocado', 'Fig', 'Dragon fruit', 'Apple', 'Orange'}\n"
     ]
    }
   ],
   "source": [
    "fruits_set={\"Dragon fruit\",\"Avocado\"}\n",
    "mix_fruits.update([\"Dragon fruit\",\"Avocado\"])\n",
    "print(mix_fruits)"
   ]
  },
  {
   "cell_type": "markdown",
   "id": "d4847717",
   "metadata": {},
   "source": [
    "4.Remove one of the fruit from the set mix_fruits"
   ]
  },
  {
   "cell_type": "code",
   "execution_count": 35,
   "id": "965ffabd",
   "metadata": {},
   "outputs": [
    {
     "name": "stdout",
     "output_type": "stream",
     "text": [
      "{'Avocado', 'Guava', 'Kiwi', 'Fig', 'Dragon fruit', 'Pear', 'Apple', 'Mango', 'Orange'}\n",
      "{'Avocado', 'Guava', 'Fig', 'Dragon fruit', 'Pear', 'Apple', 'Mango', 'Orange'}\n"
     ]
    }
   ],
   "source": [
    "mix_fruits = {'Guava', 'Kiwi', 'Banana', 'Pear', 'Mango', 'Avocado', 'Fig', 'Dragon fruit', 'Apple', 'Orange'}\n",
    "mix_fruits.remove('Banana')\n",
    "print(mix_fruits)\n",
    "mix_fruits.discard('Kiwi')\n",
    "print(mix_fruits)"
   ]
  },
  {
   "cell_type": "markdown",
   "id": "371f5997",
   "metadata": {},
   "source": [
    "5.What is the difference between remove and discard"
   ]
  },
  {
   "cell_type": "markdown",
   "id": "bb5f8d08",
   "metadata": {},
   "source": [
    "#The only difference between the two is that the discard() function leaves a set unchanged if the element is not present in the set. On the other hand, the remove() function will raise an error in such a condition (if element is not present in the set).#"
   ]
  },
  {
   "cell_type": "markdown",
   "id": "df568f09",
   "metadata": {},
   "source": [
    "Exercises ➞ Level 2"
   ]
  },
  {
   "cell_type": "markdown",
   "id": "1d5a94f7",
   "metadata": {},
   "source": [
    "Use Imaginary values for Set A and B"
   ]
  },
  {
   "cell_type": "markdown",
   "id": "cbb2d00b",
   "metadata": {},
   "source": [
    "1.Join A and B"
   ]
  },
  {
   "cell_type": "code",
   "execution_count": 36,
   "id": "2c6c2ad5",
   "metadata": {},
   "outputs": [],
   "source": [
    "A = {\"a\",\"b\",\"c\",\"d\",\"e\"}\n",
    "B = {\"d\",\"e\",\"f\",\"g\",\"h\"}"
   ]
  },
  {
   "cell_type": "markdown",
   "id": "6aae8383",
   "metadata": {},
   "source": [
    "2.Find A intersection B"
   ]
  },
  {
   "cell_type": "code",
   "execution_count": 37,
   "id": "580580ef",
   "metadata": {},
   "outputs": [
    {
     "name": "stdout",
     "output_type": "stream",
     "text": [
      "{'e', 'c', 'g', 'f', 'd', 'a', 'h', 'b'}\n"
     ]
    }
   ],
   "source": [
    "print(A|B)"
   ]
  },
  {
   "cell_type": "markdown",
   "id": "724d91bc",
   "metadata": {},
   "source": [
    "3.Is A subset of B"
   ]
  },
  {
   "cell_type": "code",
   "execution_count": 38,
   "id": "40ed89cc",
   "metadata": {},
   "outputs": [
    {
     "name": "stdout",
     "output_type": "stream",
     "text": [
      "{'e', 'd'}\n"
     ]
    }
   ],
   "source": [
    "print(A&B)"
   ]
  },
  {
   "cell_type": "markdown",
   "id": "4b06333b",
   "metadata": {},
   "source": [
    "4.Are A and B disjoint sets"
   ]
  },
  {
   "cell_type": "code",
   "execution_count": 39,
   "id": "09ae5e1d",
   "metadata": {},
   "outputs": [
    {
     "name": "stdout",
     "output_type": "stream",
     "text": [
      "False\n",
      "False\n"
     ]
    }
   ],
   "source": [
    "print(A.issubset(B))\n",
    "print(B.issubset(A))"
   ]
  },
  {
   "cell_type": "markdown",
   "id": "3378513a",
   "metadata": {},
   "source": [
    "5.Join A with B and B with A"
   ]
  },
  {
   "cell_type": "code",
   "execution_count": 40,
   "id": "a143663b",
   "metadata": {},
   "outputs": [
    {
     "name": "stdout",
     "output_type": "stream",
     "text": [
      "False\n"
     ]
    }
   ],
   "source": [
    "print(A.isdisjoint(B))"
   ]
  },
  {
   "cell_type": "markdown",
   "id": "2362df26",
   "metadata": {},
   "source": [
    "6.What is the symmetric difference between A and B"
   ]
  },
  {
   "cell_type": "code",
   "execution_count": 43,
   "id": "eec046d6",
   "metadata": {},
   "outputs": [
    {
     "name": "stdout",
     "output_type": "stream",
     "text": [
      "{'a', 'h', 'g', 'f', 'b', 'c'}\n"
     ]
    }
   ],
   "source": [
    "print(A^B)"
   ]
  },
  {
   "cell_type": "markdown",
   "id": "f9cf9b82",
   "metadata": {},
   "source": [
    "7.Delete the sets completely"
   ]
  },
  {
   "cell_type": "code",
   "execution_count": 60,
   "id": "2a7266d8",
   "metadata": {},
   "outputs": [
    {
     "name": "stdout",
     "output_type": "stream",
     "text": [
      "set()\n",
      "set()\n"
     ]
    }
   ],
   "source": [
    "A = {\"a\",\"b\",\"c\",\"d\",\"e\"}\n",
    "B = {\"d\",\"e\",\"f\",\"g\",\"h\"}\n",
    "A.clear()\n",
    "print(A)\n",
    "B.clear()\n",
    "print(B)"
   ]
  },
  {
   "cell_type": "markdown",
   "id": "d97553db",
   "metadata": {},
   "source": [
    "Exercises ➞ Level 3"
   ]
  },
  {
   "cell_type": "markdown",
   "id": "899d3229",
   "metadata": {},
   "source": [
    "1.Convert the num to a set and compare the length of the list and the set, which one is bigger?"
   ]
  },
  {
   "cell_type": "code",
   "execution_count": 27,
   "id": "9db173fc",
   "metadata": {},
   "outputs": [
    {
     "name": "stdout",
     "output_type": "stream",
     "text": [
      "{19, 22, 24, 25, 26}\n"
     ]
    }
   ],
   "source": [
    "#convert num to set\n",
    "num=set(num)\n",
    "print(num)"
   ]
  },
  {
   "cell_type": "markdown",
   "id": "f61b2a01",
   "metadata": {},
   "source": [
    "2.Explain the difference between the following data types: string, list, tuple and set\n"
   ]
  },
  {
   "cell_type": "markdown",
   "id": "b8b0067b",
   "metadata": {},
   "source": [
    "String's type is \"immutable\".It means merely text which only represent some letter that have no any functional use on python.\n",
    "List's type is \"mutable\".The element of list is convenient to change,also have index to extract designated element,the order of list is stable.\n",
    "Tuple's type is \"immutable\",while tuple has index either but it cant be duplicated.\n",
    "Set's type is \"immutable\",the element of set cant be duplicate either ,what s more it has no index."
   ]
  },
  {
   "cell_type": "markdown",
   "id": "98c9426a",
   "metadata": {},
   "source": [
    "3.I am a researcher cum teacher and I love to inspire and teach people.. How many unique words have been used in the sentence? Use the split() methods and set to get the unique words."
   ]
  },
  {
   "cell_type": "code",
   "execution_count": 26,
   "id": "a3153466",
   "metadata": {},
   "outputs": [
    {
     "name": "stdout",
     "output_type": "stream",
     "text": [
      "{'and', 'teach', 'researcher', 'love', 'I', 'inspire', 'to', 'a', 'cum', 'people.', 'teacher', 'am'}\n"
     ]
    }
   ],
   "source": [
    "string=\"I am a researcher cum teacher and I love to inspire and teach people.\"\n",
    "a=string.split()\n",
    "print(set(a))"
   ]
  },
  {
   "cell_type": "code",
   "execution_count": null,
   "id": "e25a70e7",
   "metadata": {},
   "outputs": [],
   "source": []
  }
 ],
 "metadata": {
  "kernelspec": {
   "display_name": "Python 3 (ipykernel)",
   "language": "python",
   "name": "python3"
  },
  "language_info": {
   "codemirror_mode": {
    "name": "ipython",
    "version": 3
   },
   "file_extension": ".py",
   "mimetype": "text/x-python",
   "name": "python",
   "nbconvert_exporter": "python",
   "pygments_lexer": "ipython3",
   "version": "3.9.7"
  }
 },
 "nbformat": 4,
 "nbformat_minor": 5
}
