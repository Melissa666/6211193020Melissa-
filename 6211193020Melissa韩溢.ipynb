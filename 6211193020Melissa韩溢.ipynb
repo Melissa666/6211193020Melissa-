{
 "cells": [
  {
   "cell_type": "markdown",
   "id": "0d2273cc",
   "metadata": {},
   "source": [
    "Declare your age as integer variable"
   ]
  },
  {
   "cell_type": "code",
   "execution_count": 1,
   "id": "6402b63f",
   "metadata": {},
   "outputs": [
    {
     "name": "stdout",
     "output_type": "stream",
     "text": [
      "24\n"
     ]
    }
   ],
   "source": [
    "age=24\n",
    "newinteger = int(age)\n",
    "print(newinteger)"
   ]
  },
  {
   "cell_type": "markdown",
   "id": "5b3cca2f",
   "metadata": {},
   "source": [
    "Declare your height as a float variable"
   ]
  },
  {
   "cell_type": "code",
   "execution_count": 2,
   "id": "f72b3f45",
   "metadata": {},
   "outputs": [
    {
     "name": "stdout",
     "output_type": "stream",
     "text": [
      "163.5\n"
     ]
    }
   ],
   "source": [
    "height=163.5\n",
    "x = float(height)\n",
    "print(x)"
   ]
  },
  {
   "cell_type": "markdown",
   "id": "e4d0b278",
   "metadata": {},
   "source": [
    "Declare a complex number variable"
   ]
  },
  {
   "cell_type": "code",
   "execution_count": 3,
   "id": "3e6bf4a0",
   "metadata": {},
   "outputs": [
    {
     "name": "stdout",
     "output_type": "stream",
     "text": [
      "(3+4j)\n"
     ]
    }
   ],
   "source": [
    "myComplex = 3+4j\n",
    "print(myComplex)"
   ]
  },
  {
   "cell_type": "markdown",
   "id": "952376ed",
   "metadata": {},
   "source": [
    "Write a code that prompts the user to enter base and height of the triangle and calculate an area of this triangle (area = 0.5 x b x h).\n",
    "    Enter base: 20\n",
    "    Enter height: 10"
   ]
  },
  {
   "cell_type": "code",
   "execution_count": 4,
   "id": "756fd759",
   "metadata": {},
   "outputs": [
    {
     "name": "stdout",
     "output_type": "stream",
     "text": [
      "pls enter base of triangle:20\n",
      "pls enter height of triangle:10\n",
      "100.0\n"
     ]
    }
   ],
   "source": [
    "base=input('pls enter base of triangle:')\n",
    "height=input('pls enter height of triangle:')\n",
    "square=0.5*int(base)*int(height)\n",
    "print(square)"
   ]
  },
  {
   "cell_type": "markdown",
   "id": "b685d099",
   "metadata": {},
   "source": [
    "Write a code that prompts the user to enter side a, side b, and side c of the triangle. Calculate the perimeter of the triangle (perimeter = a + b + c).\n",
    "Enter side a: 5\n",
    "Enter side b: 4\n",
    "Enter side c: 3"
   ]
  },
  {
   "cell_type": "code",
   "execution_count": 6,
   "id": "3e492b81",
   "metadata": {},
   "outputs": [
    {
     "name": "stdout",
     "output_type": "stream",
     "text": [
      "pls enter length of side a:5\n",
      "pls enter length of side b:4\n",
      "pls enter length of side c:3\n",
      "12\n"
     ]
    }
   ],
   "source": [
    "a=input('pls enter length of side a:')\n",
    "b=input('pls enter length of side b:')\n",
    "c=input('pls enter length of side c:')\n",
    "print(int(a)+int(b)+int(c))"
   ]
  },
  {
   "cell_type": "markdown",
   "id": "6a8f85e3",
   "metadata": {},
   "source": [
    "Get length and width of a rectangle using prompt. Calculate its area (area = length x width) and perimeter (perimeter = 2 x (length + width))"
   ]
  },
  {
   "cell_type": "code",
   "execution_count": 7,
   "id": "713d3029",
   "metadata": {},
   "outputs": [
    {
     "name": "stdout",
     "output_type": "stream",
     "text": [
      "pls enter length of rectangle:5\n",
      "pls enter width of rectangle:5\n",
      "25\n",
      "20\n"
     ]
    }
   ],
   "source": [
    "alpha=input('pls enter length of rectangle:')\n",
    "bravo=input('pls enter width of rectangle:')\n",
    "squareofrec=int(alpha)*int(bravo)\n",
    "perimeter=(int(alpha)+int(bravo))*2\n",
    "print(squareofrec)\n",
    "print(perimeter)"
   ]
  },
  {
   "cell_type": "markdown",
   "id": "63484859",
   "metadata": {},
   "source": [
    "Get radius of a circle using prompt. Calculate the area (area = pi x r x r) and circumference (c = 2 x pi x r) where pi = 3.14."
   ]
  },
  {
   "cell_type": "code",
   "execution_count": 10,
   "id": "0cb53a0c",
   "metadata": {},
   "outputs": [
    {
     "name": "stdout",
     "output_type": "stream",
     "text": [
      "Input the radius of the circle:5\n",
      "78.53981633974483\n",
      "31.41592653589793\n"
     ]
    }
   ],
   "source": [
    "from math import pi\n",
    "r=float(input(\"Input the radius of the circle:\"))\n",
    "calculateArea=str(pi*r**2)\n",
    "perimetercircle=2*pi*r\n",
    "print(calculateArea)\n",
    "print(perimetercircle)"
   ]
  },
  {
   "cell_type": "markdown",
   "id": "5c1b34ba",
   "metadata": {},
   "source": [
    "Calculate the slope, x-intercept and y-intercept of 𝑦=2𝑥−2y=2x−2"
   ]
  },
  {
   "cell_type": "code",
   "execution_count": 11,
   "id": "4b811fe7",
   "metadata": {},
   "outputs": [
    {
     "name": "stdout",
     "output_type": "stream",
     "text": [
      "slope: 0.5\n",
      "intercept: 2.0\n"
     ]
    }
   ],
   "source": [
    "x1=2.0\n",
    "y1=3.0\n",
    "x2=6.0\n",
    "y2=5.0\n",
    "a=(y2-y1)/(x2-x1)\n",
    "b=y1-a*x1\n",
    "print('slope:',a)\n",
    "print('intercept:',b)"
   ]
  },
  {
   "cell_type": "markdown",
   "id": "b6c28e92",
   "metadata": {},
   "source": [
    "Find the slope and Euclidean distance between point (2, 2) and point (6,10)"
   ]
  },
  {
   "cell_type": "code",
   "execution_count": 12,
   "id": "c2e976ef",
   "metadata": {},
   "outputs": [
    {
     "name": "stdout",
     "output_type": "stream",
     "text": [
      "2.0\n",
      "8.94427190999916\n"
     ]
    }
   ],
   "source": [
    "import math\n",
    "p1=[2, 2]\n",
    "p2=[6, 10]\n",
    "a=(p1[1]-p2[1])/(p1[0]-p2[0])\n",
    "distance=math.sqrt(((p1[0]-p2[0])**2)+((p1[1]-p2[1])**2))\n",
    "print(a)\n",
    "print(distance)"
   ]
  },
  {
   "cell_type": "markdown",
   "id": "4bb9a438",
   "metadata": {},
   "source": [
    "Compare the slopes in tasks 8 and 9."
   ]
  },
  {
   "cell_type": "code",
   "execution_count": 13,
   "id": "3ce3f1e0",
   "metadata": {},
   "outputs": [
    {
     "data": {
      "text/plain": [
       "False"
      ]
     },
     "execution_count": 13,
     "metadata": {},
     "output_type": "execute_result"
    }
   ],
   "source": [
    "p=8\n",
    "q=9\n",
    "p>q"
   ]
  },
  {
   "cell_type": "markdown",
   "id": "e2205243",
   "metadata": {},
   "source": [
    "Find the length of 'python' and 'datascience' and make a falsy comparison statement."
   ]
  },
  {
   "cell_type": "code",
   "execution_count": 15,
   "id": "d38adff4",
   "metadata": {},
   "outputs": [
    {
     "data": {
      "text/plain": [
       "False"
      ]
     },
     "execution_count": 15,
     "metadata": {},
     "output_type": "execute_result"
    }
   ],
   "source": [
    "p=len('python')\n",
    "data=len('datascience')\n",
    "data<p"
   ]
  },
  {
   "cell_type": "markdown",
   "id": "154091dd",
   "metadata": {},
   "source": [
    "There is no on in both python and cannon"
   ]
  },
  {
   "cell_type": "code",
   "execution_count": 16,
   "id": "8b9abbcb",
   "metadata": {},
   "outputs": [
    {
     "name": "stdout",
     "output_type": "stream",
     "text": [
      "True\n",
      "True\n"
     ]
    }
   ],
   "source": [
    "string1= \"python\"\n",
    "string2= \"cannon\"\n",
    "print(\"on\" in string1) \n",
    "print(\"on\" in string2)"
   ]
  },
  {
   "cell_type": "markdown",
   "id": "e9b8e5dd",
   "metadata": {},
   "source": [
    "Find the length of the text python and convert the value to float and convert it to string"
   ]
  },
  {
   "cell_type": "code",
   "execution_count": 1,
   "id": "177f8f5a",
   "metadata": {},
   "outputs": [
    {
     "name": "stdout",
     "output_type": "stream",
     "text": [
      "6.0\n"
     ]
    }
   ],
   "source": [
    "r=len('python')\n",
    "t=float(r)\n",
    "y=str(t)\n",
    "print(y)"
   ]
  },
  {
   "cell_type": "markdown",
   "id": "abd30993",
   "metadata": {},
   "source": [
    "How do you check if a number is even or not using python?"
   ]
  },
  {
   "cell_type": "code",
   "execution_count": 2,
   "id": "d44dca12",
   "metadata": {},
   "outputs": [
    {
     "name": "stdout",
     "output_type": "stream",
     "text": [
      "The number is even number.\n"
     ]
    }
   ],
   "source": [
    "myNum=8\n",
    "if myNum%2==0:\n",
    "    print(\"The number is even number.\")\n",
    "else:\n",
    "    print(\"The number is odd number.\")"
   ]
  },
  {
   "cell_type": "markdown",
   "id": "6687d1e1",
   "metadata": {},
   "source": [
    "Check if the floor division of 7 by 3 is equal to the int converted value of 2.7."
   ]
  },
  {
   "cell_type": "code",
   "execution_count": 3,
   "id": "d5250d91",
   "metadata": {},
   "outputs": [
    {
     "name": "stdout",
     "output_type": "stream",
     "text": [
      "True\n"
     ]
    }
   ],
   "source": [
    "z=7//3\n",
    "x=int(2.7)\n",
    "j=z==x\n",
    "print(j)"
   ]
  },
  {
   "cell_type": "markdown",
   "id": "ec1b0ba6",
   "metadata": {},
   "source": [
    "Check if type of \"10\" is equal to type of 10"
   ]
  },
  {
   "cell_type": "code",
   "execution_count": 4,
   "id": "049f7654",
   "metadata": {},
   "outputs": [
    {
     "name": "stdout",
     "output_type": "stream",
     "text": [
      "False\n"
     ]
    }
   ],
   "source": [
    "k='10'==10\n",
    "print(k)"
   ]
  },
  {
   "cell_type": "code",
   "execution_count": null,
   "id": "159663f5",
   "metadata": {},
   "outputs": [],
   "source": []
  }
 ],
 "metadata": {
  "kernelspec": {
   "display_name": "Python 3 (ipykernel)",
   "language": "python",
   "name": "python3"
  },
  "language_info": {
   "codemirror_mode": {
    "name": "ipython",
    "version": 3
   },
   "file_extension": ".py",
   "mimetype": "text/x-python",
   "name": "python",
   "nbconvert_exporter": "python",
   "pygments_lexer": "ipython3",
   "version": "3.9.7"
  }
 },
 "nbformat": 4,
 "nbformat_minor": 5
}
