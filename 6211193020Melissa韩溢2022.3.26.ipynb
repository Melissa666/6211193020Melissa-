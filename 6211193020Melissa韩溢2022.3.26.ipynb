{
 "cells": [
  {
   "cell_type": "markdown",
   "id": "b3d8181a",
   "metadata": {},
   "source": [
    "1.Create a tuple containing names of fruits and vegetables"
   ]
  },
  {
   "cell_type": "code",
   "execution_count": 13,
   "id": "79d624d3",
   "metadata": {},
   "outputs": [],
   "source": [
    "vegetables='broccoli',['potato','celery']\n",
    "fruits='peach','banana','mango','strawberry'"
   ]
  },
  {
   "cell_type": "markdown",
   "id": "052fb3b6",
   "metadata": {},
   "source": [
    "2.Join fruits and vegetables tuples and assign it to fruits_vegetables"
   ]
  },
  {
   "cell_type": "code",
   "execution_count": 14,
   "id": "36900cc5",
   "metadata": {},
   "outputs": [
    {
     "name": "stdout",
     "output_type": "stream",
     "text": [
      "('broccoli', ['potato', 'celery'], 'peach', 'banana', 'mango', 'strawberry')\n"
     ]
    }
   ],
   "source": [
    "fruit_vegetable=vegetables+fruits\n",
    "print(fruit_vegetable)"
   ]
  },
  {
   "cell_type": "markdown",
   "id": "9f9932bf",
   "metadata": {},
   "source": [
    "3.How many fruits_vegetables do you have?"
   ]
  },
  {
   "cell_type": "code",
   "execution_count": 15,
   "id": "62d3eb36",
   "metadata": {},
   "outputs": [
    {
     "name": "stdout",
     "output_type": "stream",
     "text": [
      "6\n"
     ]
    }
   ],
   "source": [
    "num=len(fruit_vegetable)\n",
    "print(num)"
   ]
  },
  {
   "cell_type": "markdown",
   "id": "60003a2c",
   "metadata": {},
   "source": [
    "4.Modify the fruits_vegetables tuple and add the name of your favorite mushroom and beverage and assign it to food_tuple"
   ]
  },
  {
   "cell_type": "code",
   "execution_count": 18,
   "id": "f58568eb",
   "metadata": {},
   "outputs": [
    {
     "name": "stdout",
     "output_type": "stream",
     "text": [
      "('broccoli', ['lettuce', 'celery'], 'peach', 'banana', 'mango', 'strawberry')\n"
     ]
    }
   ],
   "source": [
    "fruit_vegetable[1][0]='lettuce'\n",
    "print(fruit_vegetable)"
   ]
  },
  {
   "cell_type": "code",
   "execution_count": 21,
   "id": "8eabb56a",
   "metadata": {},
   "outputs": [
    {
     "name": "stdout",
     "output_type": "stream",
     "text": [
      "('broccoli', ['lettuce', 'celery'], 'peach', 'banana', 'mango', 'strawberry', 'murshroom', 'coke')\n"
     ]
    }
   ],
   "source": [
    "food_tuple=fruit_vegetable+('murshroom','coke')\n",
    "print(food_tuple)"
   ]
  },
  {
   "cell_type": "markdown",
   "id": "9fc78a5e",
   "metadata": {},
   "source": [
    "1.Unpack fruits_vegetables and mushroom and beverage from food_tuple"
   ]
  },
  {
   "cell_type": "code",
   "execution_count": 26,
   "id": "26471f16",
   "metadata": {},
   "outputs": [
    {
     "name": "stdout",
     "output_type": "stream",
     "text": [
      "('broccoli', ['lettuce', 'celery'], 'peach', 'banana', 'mango', 'strawberry')\n",
      "murshroom\n",
      "strawberry\n"
     ]
    }
   ],
   "source": [
    "a,b,c,d,e,f,g,h=food_tuple\n",
    "fruits_vegetables=a,b,c,d,e,f\n",
    "mushroom=g\n",
    "beverage=f\n",
    "print(fruits_vegetables)\n",
    "print(mushroom)\n",
    "print(beverage)"
   ]
  },
  {
   "cell_type": "markdown",
   "id": "2445931e",
   "metadata": {},
   "source": [
    "2.Change the about food_tuple tuple to a food_list list"
   ]
  },
  {
   "cell_type": "code",
   "execution_count": 29,
   "id": "12170057",
   "metadata": {},
   "outputs": [
    {
     "name": "stdout",
     "output_type": "stream",
     "text": [
      "['broccoli', ['lettuce', 'celery'], 'peach', 'banana', 'mango', 'strawberry', 'murshroom', 'coke']\n"
     ]
    }
   ],
   "source": [
    "food_list=list(food_tuple)\n",
    "print(food_list)"
   ]
  },
  {
   "cell_type": "markdown",
   "id": "beb869b8",
   "metadata": {},
   "source": [
    "3.Slice out the middle item or items from the food_tuple tuple or food_list list."
   ]
  },
  {
   "cell_type": "code",
   "execution_count": 30,
   "id": "3e21e720",
   "metadata": {},
   "outputs": [
    {
     "name": "stdout",
     "output_type": "stream",
     "text": [
      "('peach', 'banana', 'mango', 'strawberry')\n"
     ]
    }
   ],
   "source": [
    "print(food_tuple[2:6])"
   ]
  },
  {
   "cell_type": "markdown",
   "id": "7ddf6089",
   "metadata": {},
   "source": [
    "4.Slice out the first three items and the last three items from food_list list"
   ]
  },
  {
   "cell_type": "code",
   "execution_count": 36,
   "id": "6b8357d8",
   "metadata": {},
   "outputs": [
    {
     "name": "stdout",
     "output_type": "stream",
     "text": [
      "['broccoli', ['lettuce', 'celery'], 'peach']\n",
      "['strawberry', 'murshroom', 'coke']\n"
     ]
    }
   ],
   "source": [
    "print(food_list[0:3])\n",
    "print(food_list[5:8])"
   ]
  },
  {
   "cell_type": "markdown",
   "id": "8ed57a3b",
   "metadata": {},
   "source": [
    "5.Delete the food_tuple tuple completely"
   ]
  },
  {
   "cell_type": "code",
   "execution_count": 37,
   "id": "6a185f84",
   "metadata": {},
   "outputs": [
    {
     "ename": "NameError",
     "evalue": "name 'food_tuple' is not defined",
     "output_type": "error",
     "traceback": [
      "\u001b[1;31m---------------------------------------------------------------------------\u001b[0m",
      "\u001b[1;31mNameError\u001b[0m                                 Traceback (most recent call last)",
      "\u001b[1;32mC:\\TEMP/ipykernel_1420/3629186401.py\u001b[0m in \u001b[0;36m<module>\u001b[1;34m\u001b[0m\n\u001b[1;32m----> 1\u001b[1;33m \u001b[1;32mdel\u001b[0m \u001b[0mfood_tuple\u001b[0m\u001b[1;33m\u001b[0m\u001b[1;33m\u001b[0m\u001b[0m\n\u001b[0m",
      "\u001b[1;31mNameError\u001b[0m: name 'food_tuple' is not defined"
     ]
    }
   ],
   "source": [
    "del food_tuple"
   ]
  },
  {
   "cell_type": "markdown",
   "id": "a95a0c3f",
   "metadata": {},
   "source": [
    "6.Check if an item exists in tuple:\n",
    "Check if 'Finland' is a asian country\n",
    "Check if 'India' is a asian country\n",
    "asian_countries = ('India','China','Singapore','Thailand','Indonesia')"
   ]
  },
  {
   "cell_type": "code",
   "execution_count": 38,
   "id": "6b98316c",
   "metadata": {},
   "outputs": [
    {
     "name": "stdout",
     "output_type": "stream",
     "text": [
      "False\n",
      "True\n"
     ]
    }
   ],
   "source": [
    "asian_countries = 'India','China','Singapore','Thailand','Indonesia'\n",
    "m='Finland'in asian_countries\n",
    "n='India'in asian_countries\n",
    "print(m)\n",
    "print(n)"
   ]
  },
  {
   "cell_type": "code",
   "execution_count": null,
   "id": "b29270b8",
   "metadata": {},
   "outputs": [],
   "source": []
  }
 ],
 "metadata": {
  "kernelspec": {
   "display_name": "Python 3 (ipykernel)",
   "language": "python",
   "name": "python3"
  },
  "language_info": {
   "codemirror_mode": {
    "name": "ipython",
    "version": 3
   },
   "file_extension": ".py",
   "mimetype": "text/x-python",
   "name": "python",
   "nbconvert_exporter": "python",
   "pygments_lexer": "ipython3",
   "version": "3.9.7"
  }
 },
 "nbformat": 4,
 "nbformat_minor": 5
}
